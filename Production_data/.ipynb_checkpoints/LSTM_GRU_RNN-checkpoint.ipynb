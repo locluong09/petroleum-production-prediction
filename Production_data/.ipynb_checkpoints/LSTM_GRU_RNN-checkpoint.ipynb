{
 "cells": [
  {
   "cell_type": "code",
   "execution_count": 1,
   "metadata": {
    "colab": {
     "autoexec": {
      "startup": false,
      "wait_interval": 0
     },
     "base_uri": "https://localhost:8080/",
     "height": 33
    },
    "colab_type": "code",
    "executionInfo": {
     "elapsed": 7514,
     "status": "ok",
     "timestamp": 1528484978393,
     "user": {
      "displayName": "Tita Ristanto",
      "photoUrl": "//lh6.googleusercontent.com/-WzCH6Rmr_tA/AAAAAAAAAAI/AAAAAAAABTo/i_JXU-eKApc/s50-c-k-no/photo.jpg",
      "userId": "104366007315489817645"
     },
     "user_tz": 420
    },
    "id": "4j6YioraDkh8",
    "outputId": "e9c95cb9-8bb8-4916-955a-a5b8102e7c80"
   },
   "outputs": [
    {
     "name": "stderr",
     "output_type": "stream",
     "text": [
      "/Library/Frameworks/Python.framework/Versions/3.6/lib/python3.6/site-packages/h5py/__init__.py:36: FutureWarning: Conversion of the second argument of issubdtype from `float` to `np.floating` is deprecated. In future, it will be treated as `np.float64 == np.dtype(float).type`.\n",
      "  from ._conv import register_converters as _register_converters\n",
      "Using TensorFlow backend.\n"
     ]
    }
   ],
   "source": [
    "from __future__ import division\n",
    "import pandas as pd\n",
    "import numpy as np\n",
    "\n",
    "from sklearn.model_selection import train_test_split\n",
    "from sklearn.metrics import mean_squared_error, r2_score\n",
    "from sklearn.preprocessing import MinMaxScaler\n",
    "\n",
    "import matplotlib.pyplot as plt\n",
    "import time, os, math, warnings\n",
    "from matplotlib import pyplot\n",
    "\n",
    "import tensorflow as tf\n",
    "from keras.models import Sequential, Model\n",
    "from keras.layers import Input, Dense, Dropout, Activation, Flatten, TimeDistributed, Reshape\n",
    "from keras.layers.recurrent import LSTM, GRU, SimpleRNN\n",
    "from keras.utils import plot_model"
   ]
  },
  {
   "cell_type": "code",
   "execution_count": null,
   "metadata": {
    "colab": {
     "autoexec": {
      "startup": false,
      "wait_interval": 0
     },
     "base_uri": "https://localhost:8080/",
     "height": 33
    },
    "colab_type": "code",
    "executionInfo": {
     "elapsed": 528,
     "status": "ok",
     "timestamp": 1528484970666,
     "user": {
      "displayName": "Tita Ristanto",
      "photoUrl": "//lh6.googleusercontent.com/-WzCH6Rmr_tA/AAAAAAAAAAI/AAAAAAAABTo/i_JXU-eKApc/s50-c-k-no/photo.jpg",
      "userId": "104366007315489817645"
     },
     "user_tz": 420
    },
    "id": "EWyOvLVuDkiC",
    "outputId": "9b8a5ade-dc00-4a08-c77a-d3da1851113c"
   },
   "outputs": [],
   "source": [
    "# Set up some global variables\n",
    "#USE_GPU = True\n",
    "\n",
    "#if USE_GPU:\n",
    "    #device = '/device:GPU:0'\n",
    "#else:\n",
    "    #device = '/cpu:0'\n",
    "\n",
    "# Constant to control how often we print when training models\n",
    "#print_every = 100\n",
    "\n",
    "#print('Using device: ', device)"
   ]
  },
  {
   "cell_type": "markdown",
   "metadata": {
    "colab_type": "text",
    "id": "8z_1p2J7DkiJ"
   },
   "source": [
    "### Pre-processing Functions"
   ]
  },
  {
   "cell_type": "code",
   "execution_count": 2,
   "metadata": {
    "colab": {
     "autoexec": {
      "startup": false,
      "wait_interval": 0
     }
    },
    "colab_type": "code",
    "id": "VcsdsHG5DkiJ"
   },
   "outputs": [],
   "source": [
    "def create_timeblock(X, Y, look_back=1):\n",
    "    dataX, dataY = [], []\n",
    "    for i in range(len(X) - look_back):\n",
    "        a = X[i:(i + look_back), :]\n",
    "        dataX.append(a)\n",
    "        dataY.append(Y[i + look_back, :])\n",
    "    print('# of data: ', len(dataY))\n",
    "    return np.array(dataX), np.array(dataY)"
   ]
  },
  {
   "cell_type": "markdown",
   "metadata": {
    "colab_type": "text",
    "id": "sDDRhqiKDkiN"
   },
   "source": [
    "### Plotting Functions"
   ]
  },
  {
   "cell_type": "code",
   "execution_count": 3,
   "metadata": {
    "colab": {
     "autoexec": {
      "startup": false,
      "wait_interval": 0
     },
     "base_uri": "https://localhost:8080/",
     "height": 50
    },
    "colab_type": "code",
    "executionInfo": {
     "elapsed": 590,
     "status": "ok",
     "timestamp": 1528498706337,
     "user": {
      "displayName": "Tita Ristanto",
      "photoUrl": "//lh6.googleusercontent.com/-WzCH6Rmr_tA/AAAAAAAAAAI/AAAAAAAABTo/i_JXU-eKApc/s50-c-k-no/photo.jpg",
      "userId": "104366007315489817645"
     },
     "user_tz": 420
    },
    "id": "-f3sgh5SDkiN",
    "outputId": "4f0443de-6907-4fca-a724-a73127dada5f"
   },
   "outputs": [],
   "source": [
    "%matplotlib inline\n",
    "plt.rcParams['figure.figsize'] = (10.0, 8.0) # set default size of plots\n",
    "plt.rcParams['image.interpolation'] = 'nearest'\n",
    "plt.rcParams['image.cmap'] = 'gray'\n",
    "\n",
    "# for auto-reloading external modules\n",
    "# see http://stackoverflow.com/questions/1907993/autoreload-of-modules-in-ipython\n",
    "%load_ext autoreload\n",
    "%autoreload 2\n",
    "\n",
    "def load_data(filename):\n",
    "    \"\"\"\n",
    "    This function reads csv file from the given url and extracts time-series data of oil & water rate,\n",
    "    pressure, and water cut.\n",
    "    :param filename: the url of csv file (stored in GitHub)\n",
    "    :return: t: vector of time; qo: matrix of oil rate in all wells; qo: matrix of water rate in all wells;\n",
    "            and p: matrix of bottom hole pressure in all wells\n",
    "    \"\"\"\n",
    "    df = pd.read_csv(filename)\n",
    "\n",
    "    t = df.loc[:, ['TIME']] # Time in simulation: DAY\n",
    "    t *= 24 # Converting time from DAY to HOUR\n",
    "    qo = df.loc[:, ['WOPR:P1', 'WOPR:P2', 'WOPR:P3']]\n",
    "    qw = df.loc[:, ['WWPR:P1', 'WWPR:P2', 'WWPR:P3']]\n",
    "    p = df.loc[:, ['WBHP:P1', 'WBHP:P2', 'WBHP:P3']]\n",
    "    wc = df.loc[:, ['WWCT:P1', 'WWCT:P2', 'WWCT:P3']]\n",
    "    return t, qo, qw, wc, p\n",
    "\n",
    "def plot_pressure(t, q_actual, q_pred, dev_fraction, test_fraction, well):\n",
    "    \"\"\"This function plots actual and predicted bottom hole pressure\"\"\"\n",
    "    # Plotting pwf v time\n",
    "    plt.figure()\n",
    "    plt.plot(t, q_actual, 'k-', linewidth=3, label='Actual oil rate')\n",
    "\n",
    "    # Training\n",
    "    train_end = int((1 - dev_fraction - test_fraction) * q_pred.shape[0])\n",
    "    plt.plot(t[0:train_end], q_pred[0:train_end],\n",
    "                 'r-', markeredgecolor='red', label='Training Set', linewidth=3)\n",
    "    \n",
    "    # Dev\n",
    "    dev_end = int((1 - test_fraction) * q_pred.shape[0])\n",
    "    plt.plot(t[train_end:dev_end], q_pred[train_end:dev_end],\n",
    "                 'y-', markeredgecolor='orange', label='Dev Set', linewidth=3)\n",
    "    \n",
    "    # Test\n",
    "    plt.plot(t[dev_end:], q_pred[dev_end:],\n",
    "                 'g-', markeredgecolor='green', label='Test Set', linewidth=3)    \n",
    "    \n",
    "    plt.xlabel(\"Time (hours)\", fontsize=14)\n",
    "    plt.ylabel(\"Bottom Hole Pressure (psi)\", fontsize=14)\n",
    "    plt.title(\"Bottom Hole Pressure Well \"+str(well), y=1, fontsize=13)\n",
    "    plt.legend(loc=\"best\", prop=dict(size=14))\n",
    "    plt.xlim(0, max(t))\n",
    "    plt.ylim(0, max(max(q_actual), max(q_pred)) + 10)\n",
    "    plt.grid(True)\n",
    "\n",
    "def plot_pred_rate(t, q_actual, q_pred, dev_fraction, test_fraction, well):\n",
    "    \"\"\"This function plots actual and predicted bottom hole pressure\"\"\"\n",
    "    # Plotting pwf v time\n",
    "    plt.figure()\n",
    "    plt.plot(t, q_actual, 'k-', linewidth=3, label='Actual oil rate')\n",
    "\n",
    "    # Training\n",
    "    train_end = int((1 - dev_fraction - test_fraction) * q_pred.shape[0])\n",
    "    plt.plot(t[0:train_end], q_pred[0:train_end],\n",
    "                 'r-', markeredgecolor='red', label='Training Set', linewidth=3)\n",
    "    \n",
    "    # Dev\n",
    "    dev_end = int((1 - test_fraction) * q_pred.shape[0])\n",
    "    plt.plot(t[train_end:dev_end], q_pred[train_end:dev_end],\n",
    "                 'y-', markeredgecolor='orange', label='Dev Set', linewidth=3)\n",
    "    \n",
    "    # Test\n",
    "    plt.plot(t[dev_end:], q_pred[dev_end:],\n",
    "                 'g-', markeredgecolor='green', label='Test Set', linewidth=3)    \n",
    "    \n",
    "    plt.xlabel(\"Time (hours)\", fontsize=14)\n",
    "    plt.ylabel(\"Flow Rate (STB/d)\", fontsize=14)\n",
    "    plt.title(\"Flow Rate Well \" +str(well), y=1, fontsize=13)\n",
    "    plt.legend(loc=\"best\", prop=dict(size=14))\n",
    "    plt.xlim(0, max(t))\n",
    "    plt.ylim(0, max(max(q_actual), max(q_pred)) + 10)\n",
    "    plt.grid(True)\n",
    "\n",
    "def plot_rates(t, q, wellname, color, label):\n",
    "    \"\"\"This function plots actual flow rates\"\"\"\n",
    "    # Plotting Flow Rate v time\n",
    "    plt.plot(t, q, color, linewidth=3, label=label)\n",
    "    plt.xlabel(\"Time (hours)\", fontsize=11)\n",
    "    plt.ylabel(\"Flow Rate (STB/D)\", fontsize=11)\n",
    "    plt.title('Flow Rate Well ' + wellname, y=0.82, fontsize=9)\n",
    "    plt.legend(loc=1, prop=dict(size=8))\n",
    "    plt.xlim(0, max(t))\n",
    "    plt.ylim(0, max(q) + 10)\n",
    "    plt.grid(True)\n",
    "\n",
    "def plot_pressure_rates(x, y, y_pred, labelname):\n",
    "    \"\"\"This function plots both pressure and actual flow rates\"\"\"\n",
    "    plt.figure()\n",
    "    if labelname=='Training Data':\n",
    "        color='red'\n",
    "    else:\n",
    "        color='green'\n",
    "\n",
    "    plt.subplot(411)\n",
    "    plot_pressure(x['TIME'], y, y_pred, labelname, color)\n",
    "\n",
    "    plt.subplot(412)\n",
    "    plot_rates(x['TIME'], x['WWPR:P1'], wellname='A', color='blue', label='Water Rate')\n",
    "    plot_rates(x['TIME'], x['WOPR:P1'], wellname='A', color='green', label='Oil Rate')\n",
    "    plt.ylim(0, max(max(x['WWPR:P1'].values), max(x['WOPR:P1'].values)) + 10)\n",
    "\n",
    "    plt.subplot(413)\n",
    "    plot_rates(x['TIME'], x['WOPR:P2'],wellname='B',color='green', label='Oil Rate')\n",
    "    plot_rates(x['TIME'], x['WWPR:P2'],wellname='B',color='blue', label='Water Rate')\n",
    "    plt.ylim(0, max(max(x['WWPR:P2'].values), max(x['WOPR:P2'].values)) + 10)\n",
    "\n",
    "    plt.subplot(414)\n",
    "    plot_rates(x['TIME'], x['WOPR:P3'], wellname='C', color='green', label='Oil Rate')\n",
    "    plot_rates(x['TIME'], x['WWPR:P3'], wellname='C', color='blue', label='Water Rate')\n",
    "    plt.ylim(0, max(max(x['WWPR:P3'].values), max(x['WOPR:P3'].values)) + 10)\n",
    "\n",
    "def plot_loss(history, title):\n",
    "    plt.figure()\n",
    "    plt.plot(history.history['loss'], label='Train Loss', linewidth=3)\n",
    "    plt.plot(history.history['val_loss'], label='Dev Loss', linewidth=3)\n",
    "    plt.legend()\n",
    "    plt.grid()\n",
    "    plt.xlabel(\"No of Epochs\", fontsize=15)\n",
    "    plt.ylabel(\"Loss\", fontsize=15)\n",
    "    plt.title('Loss - ' + title, fontsize=15)\n",
    "    plt.xlim(0, len(history.history['loss']))\n",
    "    plt.ylim(0, max(history.history['val_loss']))\n",
    "    plt.show()\n",
    "\n",
    "def plot_loss_comparison(histories):\n",
    "    plt.figure()\n",
    "    plt.plot(histories['Simple RNN'].history['val_loss'], linewidth=3, label='Simple RNN')\n",
    "    plt.plot(histories['GRU'].history['val_loss'], linewidth=3, label='GRU')\n",
    "    plt.plot(histories['LSTM'].history['val_loss'], linewidth=3, label='LSTM')\n",
    "    plt.legend()\n",
    "    plt.grid()\n",
    "    plt.xlabel(\"No of Epochs\", fontsize=15)\n",
    "    plt.ylabel(\"Loss\", fontsize=15)\n",
    "    plt.title(' Dev Loss', fontsize=15)\n",
    "    plt.xlim(0, len(histories['Simple RNN'].history['loss']))\n",
    "    plt.ylim(0, 0.02)\n",
    "    plt.show()\n"
   ]
  },
  {
   "cell_type": "markdown",
   "metadata": {
    "colab_type": "text",
    "id": "ceCICd5zDkiQ"
   },
   "source": [
    "### Load Data"
   ]
  },
  {
   "cell_type": "code",
   "execution_count": 4,
   "metadata": {
    "colab": {
     "autoexec": {
      "startup": false,
      "wait_interval": 0
     }
    },
    "colab_type": "code",
    "id": "eaVEYQOtDkiR"
   },
   "outputs": [],
   "source": [
    "t, qo, qw, wc, p = load_data('https://raw.githubusercontent.com/titaristanto/data-driven-production-problem/master/close_highWC_long.csv')\n"
   ]
  },
  {
   "cell_type": "markdown",
   "metadata": {
    "colab_type": "text",
    "id": "aXJWY2CfDkiT"
   },
   "source": [
    "# Flow Rate Prediction"
   ]
  },
  {
   "cell_type": "markdown",
   "metadata": {
    "colab_type": "text",
    "id": "GlLrsbOFDkiU"
   },
   "source": [
    "### Pre-processing"
   ]
  },
  {
   "cell_type": "code",
   "execution_count": 5,
   "metadata": {
    "colab": {
     "autoexec": {
      "startup": false,
      "wait_interval": 0
     },
     "base_uri": "https://localhost:8080/",
     "height": 67
    },
    "colab_type": "code",
    "executionInfo": {
     "elapsed": 267,
     "status": "ok",
     "timestamp": 1528485023097,
     "user": {
      "displayName": "Tita Ristanto",
      "photoUrl": "//lh6.googleusercontent.com/-WzCH6Rmr_tA/AAAAAAAAAAI/AAAAAAAABTo/i_JXU-eKApc/s50-c-k-no/photo.jpg",
      "userId": "104366007315489817645"
     },
     "user_tz": 420
    },
    "id": "dUdjCnQ2DkiV",
    "outputId": "78736c0b-47d8-47e9-eb94-5bef76d77921",
    "scrolled": false
   },
   "outputs": [
    {
     "name": "stdout",
     "output_type": "stream",
     "text": [
      "# of data:  1235\n",
      "# of data:  245\n",
      "# of data:  246\n"
     ]
    }
   ],
   "source": [
    "# Group the input\n",
    "X_raw = pd.concat([p['WBHP:P1'], p['WBHP:P2'], p['WBHP:P3']], axis=1, join='inner')\n",
    "Y_raw = pd.concat([qo['WOPR:P1'], qo['WOPR:P2'], qo['WOPR:P3']], axis=1, join='inner')\n",
    "\n",
    "# Split train-dev and test sets\n",
    "test_fraction = 0.15\n",
    "x_traindev_raw, x_test_raw, y_traindev_raw, y_test_raw = train_test_split(X_raw,\n",
    "                                                  Y_raw,\n",
    "                                                  test_size=test_fraction,\n",
    "                                                  shuffle=False)\n",
    "\n",
    "# Split train and dev sets\n",
    "dev_fraction = 0.15 # of total dataset\n",
    "x_train_raw, x_dev_raw, y_train_raw, y_dev_raw = train_test_split(x_traindev_raw,\n",
    "                                                  y_traindev_raw,\n",
    "                                                  test_size= dev_fraction/(1-test_fraction),\n",
    "                                                  shuffle=False)\n",
    "\n",
    "# Data Scaling\n",
    "scaler_x = MinMaxScaler()\n",
    "x_train_norm = scaler_x.fit_transform(x_train_raw.as_matrix())\n",
    "x_dev_norm = scaler_x.transform(x_dev_raw.as_matrix())\n",
    "x_test_norm = scaler_x.transform(x_test_raw.as_matrix())\n",
    "\n",
    "scaler_y = MinMaxScaler()\n",
    "y_train_norm = scaler_y.fit_transform(y_train_raw.as_matrix())\n",
    "y_dev_norm = scaler_y.transform(y_dev_raw.as_matrix())\n",
    "y_test_norm = scaler_y.transform(y_test_raw.as_matrix())\n",
    "\n",
    "# Create time blocks\n",
    "x_train, y_train = create_timeblock(x_train_norm, y_train_norm, look_back=25)\n",
    "x_dev, y_dev = create_timeblock(x_dev_norm, y_dev_norm, look_back=25)\n",
    "x_test, y_test = create_timeblock(x_test_norm, y_test_norm, look_back=25)\n"
   ]
  },
  {
   "cell_type": "code",
   "execution_count": 6,
   "metadata": {},
   "outputs": [
    {
     "data": {
      "text/plain": [
       "[<matplotlib.lines.Line2D at 0x123c19278>,\n",
       " <matplotlib.lines.Line2D at 0x123c19438>,\n",
       " <matplotlib.lines.Line2D at 0x123c19630>]"
      ]
     },
     "execution_count": 6,
     "metadata": {},
     "output_type": "execute_result"
    },
    {
     "data": {
      "image/png": "[encoded data removed]",
      "text/plain": [
       "<matplotlib.figure.Figure at 0x1231fe9e8>"
      ]
     },
     "metadata": {},
     "output_type": "display_data"
    }
   ],
   "source": [
    "plt.plot(x_train[1,:])"
   ]
  },
  {
   "cell_type": "code",
   "execution_count": 7,
   "metadata": {},
   "outputs": [
    {
     "data": {
      "text/plain": [
       "array([[[1.        , 1.        , 1.        ],\n",
       "        [0.95892858, 0.71500538, 0.86252176],\n",
       "        [0.9566863 , 0.70101615, 0.85408479],\n",
       "        ...,\n",
       "        [0.51775277, 0.64497856, 0.81612696],\n",
       "        [0.51657527, 0.73957792, 0.81478907],\n",
       "        [0.51529847, 0.74282113, 0.81351005]],\n",
       "\n",
       "       [[0.95892858, 0.71500538, 0.86252176],\n",
       "        [0.9566863 , 0.70101615, 0.85408479],\n",
       "        [0.95437279, 0.69146806, 0.84828184],\n",
       "        ...,\n",
       "        [0.51657527, 0.73957792, 0.81478907],\n",
       "        [0.51529847, 0.74282113, 0.81351005],\n",
       "        [0.67532436, 0.74470206, 0.8123457 ]],\n",
       "\n",
       "       [[0.9566863 , 0.70101615, 0.85408479],\n",
       "        [0.95437279, 0.69146806, 0.84828184],\n",
       "        [0.95199594, 0.68456687, 0.84406723],\n",
       "        ...,\n",
       "        [0.51529847, 0.74282113, 0.81351005],\n",
       "        [0.67532436, 0.74470206, 0.8123457 ],\n",
       "        [0.67848317, 0.74580721, 0.81129275]],\n",
       "\n",
       "       ...,\n",
       "\n",
       "       [[0.37160062, 0.69551281, 0.71952256],\n",
       "        [0.37122318, 0.69535787, 0.63860402],\n",
       "        [0.37074073, 0.69520414, 0.63366494],\n",
       "        ...,\n",
       "        [0.35970075, 0.69177668, 0.61358681],\n",
       "        [0.35928309, 0.69160151, 0.61320478],\n",
       "        [0.3588763 , 0.69142752, 0.6128364 ]],\n",
       "\n",
       "       [[0.37122318, 0.69535787, 0.63860402],\n",
       "        [0.37074073, 0.69520414, 0.63366494],\n",
       "        [0.3701804 , 0.69505009, 0.63022652],\n",
       "        ...,\n",
       "        [0.35928309, 0.69160151, 0.61320478],\n",
       "        [0.3588763 , 0.69142752, 0.6128364 ],\n",
       "        [0.35847958, 0.69125479, 0.61248058]],\n",
       "\n",
       "       [[0.37074073, 0.69520414, 0.63366494],\n",
       "        [0.3701804 , 0.69505009, 0.63022652],\n",
       "        [0.36957078, 0.69489459, 0.6277054 ],\n",
       "        ...,\n",
       "        [0.3588763 , 0.69142752, 0.6128364 ],\n",
       "        [0.35847958, 0.69125479, 0.61248058],\n",
       "        [0.35809262, 0.69108345, 0.61213633]]])"
      ]
     },
     "execution_count": 7,
     "metadata": {},
     "output_type": "execute_result"
    }
   ],
   "source": [
    "x_train"
   ]
  },
  {
   "cell_type": "code",
   "execution_count": 8,
   "metadata": {
    "colab": {
     "autoexec": {
      "startup": false,
      "wait_interval": 0
     }
    },
    "colab_type": "code",
    "id": "-GGn_E38DkiY"
   },
   "outputs": [],
   "source": [
    "def run_model(x_train, y_train, x_dev, y_dev, epochs=500, batch_size=400, method='LSTM'):\n",
    "    classifier = {'GRU' : GRU,\n",
    "                  'LSTM' : LSTM,\n",
    "                  'Simple RNN' : SimpleRNN}\n",
    "\n",
    "\n",
    "    inputs = Input(shape=(x_train.shape[1], x_train.shape[2]))\n",
    "\n",
    "    X = classifier[method](512, return_sequences=True)(inputs)\n",
    "    X = classifier[method](1024, return_sequences=True)(X)\n",
    "    \n",
    "    X = TimeDistributed(Dense(256, activation='relu'))(X)\n",
    "    X = Dropout(0.4)(X)\n",
    "    \n",
    "    out1 = Dense(1, activation='linear')(Flatten()(X))\n",
    "    out2 = Dense(1, activation='linear')(Flatten()(X))\n",
    "    out3 = Dense(1, activation='linear')(Flatten()(X))\n",
    "    \n",
    "    model = Model(input=inputs, output=[out1, out2, out3])\n",
    "    \n",
    "    #parallel_model = multi_gpu_model(model, gpus=8)\n",
    "\n",
    "    model.compile(loss='mean_squared_error', optimizer='adam', metrics=['mae','accuracy'])\n",
    "    history = model.fit(x_train, [y_train[:, 0], y_train[:, 1], y_train[:, 2]], \n",
    "                        epochs=epochs, batch_size=batch_size,\n",
    "                        validation_data=(x_dev, [y_dev[:, 0], y_dev[:, 1], y_dev[:, 2]]), \n",
    "                        verbose=1, shuffle=False)\n",
    "    return model, history"
   ]
  },
  {
   "cell_type": "code",
   "execution_count": null,
   "metadata": {
    "colab": {
     "autoexec": {
      "startup": false,
      "wait_interval": 0
     },
     "base_uri": "https://localhost:8080/",
     "height": 10070
    },
    "colab_type": "code",
    "executionInfo": {
     "elapsed": 506331,
     "status": "ok",
     "timestamp": 1528485588818,
     "user": {
      "displayName": "Tita Ristanto",
      "photoUrl": "//lh6.googleusercontent.com/-WzCH6Rmr_tA/AAAAAAAAAAI/AAAAAAAABTo/i_JXU-eKApc/s50-c-k-no/photo.jpg",
      "userId": "104366007315489817645"
     },
     "user_tz": 420
    },
    "id": "L-dKMTecDkib",
    "outputId": "43e29c0b-4803-47f5-dccc-be619adce93d"
   },
   "outputs": [],
   "source": [
    "model_LSTM, history_LSTM = run_model(x_train, y_train, x_dev, y_dev, epochs=300, batch_size=300, method='LSTM')"
   ]
  },
  {
   "cell_type": "code",
   "execution_count": null,
   "metadata": {
    "colab": {
     "autoexec": {
      "startup": false,
      "wait_interval": 0
     }
    },
    "colab_type": "code",
    "id": "E66MJIDfDkie"
   },
   "outputs": [],
   "source": [
    "# Training\n",
    "y_pred_train_pre = model_LSTM.predict(x_train)\n",
    "y_pred_train_scaled = np.concatenate((y_pred_train_pre[0], y_pred_train_pre[1], y_pred_train_pre[2]), axis=1)\n",
    "y_pred_train = scaler_y.inverse_transform(y_pred_train_scaled)\n",
    "y_train_act = scaler_y.inverse_transform(y_train)\n",
    "\n",
    "# Dev\n",
    "y_pred_dev_pre = model_LSTM.predict(x_dev)\n",
    "y_pred_dev_scaled = np.concatenate((y_pred_dev_pre[0], y_pred_dev_pre[1], y_pred_dev_pre[2]), axis=1)\n",
    "y_pred_dev = scaler_y.inverse_transform(y_pred_dev_scaled)\n",
    "y_dev_act = scaler_y.inverse_transform(y_dev)\n",
    "\n",
    "# Test\n",
    "y_pred_test_pre = model_LSTM.predict(x_test)\n",
    "y_pred_test_scaled = np.concatenate((y_pred_test_pre[0], y_pred_test_pre[1], y_pred_test_pre[2]), axis=1)\n",
    "y_pred_test = scaler_y.inverse_transform(y_pred_test_scaled)\n",
    "y_test_act = scaler_y.inverse_transform(y_test)\n",
    "\n",
    "# Train-Dev-Test\n",
    "y_act = np.concatenate([y_train_act, y_dev_act, y_test_act])\n",
    "y_pred = np.concatenate([y_pred_train, y_pred_dev, y_pred_test])"
   ]
  },
  {
   "cell_type": "code",
   "execution_count": null,
   "metadata": {
    "colab": {
     "autoexec": {
      "startup": false,
      "wait_interval": 0
     },
     "base_uri": "https://localhost:8080/",
     "height": 608
    },
    "colab_type": "code",
    "executionInfo": {
     "elapsed": 660,
     "status": "ok",
     "timestamp": 1528485592438,
     "user": {
      "displayName": "Tita Ristanto",
      "photoUrl": "//lh6.googleusercontent.com/-WzCH6Rmr_tA/AAAAAAAAAAI/AAAAAAAABTo/i_JXU-eKApc/s50-c-k-no/photo.jpg",
      "userId": "104366007315489817645"
     },
     "user_tz": 420
    },
    "id": "xBrdpAkmDkih",
    "outputId": "0dd7b4ab-6d30-4374-da65-93a804d24a24"
   },
   "outputs": [],
   "source": [
    "plot_loss(history_LSTM, title='test')\n",
    "#plt.savefig('loss_LSTM_512_1024_lb25_well_' + str(i))\n",
    "train_mse, train_acc = mean_squared_error(y_train_act, y_pred_train), r2_score(y_train_act, y_pred_train)\n",
    "dev_mse, dev_acc = mean_squared_error(y_dev_act, y_pred_dev), r2_score(y_dev_act, y_pred_dev)\n",
    "test_mse, test_acc = mean_squared_error(y_test_act, y_pred_test), r2_score(y_test_act, y_pred_test)\n",
    "\n",
    "print('Training Set Score: %1.4f' % train_acc)\n",
    "print('Dev Set Score: %1.4f' % dev_acc)\n",
    "print('Test Set Score: %1.4f' % test_acc)\n",
    "\n",
    "print('Training Set MSE: %1.4f' % train_mse)\n",
    "print('Dev Set MSE: %1.4f' % dev_mse)\n",
    "print('Test Set MSE: %1.4f' % test_mse)"
   ]
  },
  {
   "cell_type": "code",
   "execution_count": null,
   "metadata": {
    "colab": {
     "autoexec": {
      "startup": false,
      "wait_interval": 0
     },
     "base_uri": "https://localhost:8080/",
     "height": 1514
    },
    "colab_type": "code",
    "executionInfo": {
     "elapsed": 1959,
     "status": "ok",
     "timestamp": 1528485594437,
     "user": {
      "displayName": "Tita Ristanto",
      "photoUrl": "//lh6.googleusercontent.com/-WzCH6Rmr_tA/AAAAAAAAAAI/AAAAAAAABTo/i_JXU-eKApc/s50-c-k-no/photo.jpg",
      "userId": "104366007315489817645"
     },
     "user_tz": 420
    },
    "id": "ngb6MxghDkiv",
    "outputId": "75ae6120-da6f-402a-83f7-a3ec5deeef42"
   },
   "outputs": [],
   "source": [
    "for i in range(y_act.shape[1]):\n",
    "    plot_pred_rate(t[-len(y_act):].as_matrix(),\n",
    "                   y_act[:, i], y_pred[:, i], dev_fraction=dev_fraction, test_fraction=test_fraction, well=i+1)\n",
    "    plt.savefig('traindev_LSTM_512_1024_lb25_well_' + str(i))"
   ]
  },
  {
   "cell_type": "markdown",
   "metadata": {
    "colab_type": "text",
    "id": "yGs3fTAY_6Vl"
   },
   "source": [
    "GRU"
   ]
  },
  {
   "cell_type": "code",
   "execution_count": null,
   "metadata": {
    "colab": {
     "autoexec": {
      "startup": false,
      "wait_interval": 0
     },
     "base_uri": "https://localhost:8080/",
     "height": 12159
    },
    "colab_type": "code",
    "executionInfo": {
     "elapsed": 396396,
     "status": "ok",
     "timestamp": 1528485990850,
     "user": {
      "displayName": "Tita Ristanto",
      "photoUrl": "//lh6.googleusercontent.com/-WzCH6Rmr_tA/AAAAAAAAAAI/AAAAAAAABTo/i_JXU-eKApc/s50-c-k-no/photo.jpg",
      "userId": "104366007315489817645"
     },
     "user_tz": 420
    },
    "id": "yviboNhHDkjB",
    "outputId": "2b54ef3e-d388-40d2-b016-ca1fc13994aa"
   },
   "outputs": [],
   "source": [
    "model_GRU, history_GRU = run_model(x_train, y_train, x_dev, y_dev, epochs=300, batch_size=300, method='GRU')\n",
    "\n",
    "# Training\n",
    "y_pred_train_pre = model_GRU.predict(x_train)\n",
    "y_pred_train_scaled = np.concatenate((y_pred_train_pre[0], y_pred_train_pre[1], y_pred_train_pre[2]), axis=1)\n",
    "y_pred_train = scaler_y.inverse_transform(y_pred_train_scaled)\n",
    "y_train_act = scaler_y.inverse_transform(y_train)\n",
    "\n",
    "# Dev\n",
    "y_pred_dev_pre = model_GRU.predict(x_dev)\n",
    "y_pred_dev_scaled = np.concatenate((y_pred_dev_pre[0], y_pred_dev_pre[1], y_pred_dev_pre[2]), axis=1)\n",
    "y_pred_dev = scaler_y.inverse_transform(y_pred_dev_scaled)\n",
    "y_dev_act = scaler_y.inverse_transform(y_dev)\n",
    "\n",
    "# Test\n",
    "y_pred_test_pre = model_GRU.predict(x_test)\n",
    "y_pred_test_scaled = np.concatenate((y_pred_test_pre[0], y_pred_test_pre[1], y_pred_test_pre[2]), axis=1)\n",
    "y_pred_test = scaler_y.inverse_transform(y_pred_test_scaled)\n",
    "y_test_act = scaler_y.inverse_transform(y_test)\n",
    "\n",
    "# Train-Dev-Test\n",
    "y_act = np.concatenate([y_train_act, y_dev_act, y_test_act])\n",
    "y_pred = np.concatenate([y_pred_train, y_pred_dev, y_pred_test])\n",
    "\n",
    "plot_loss(history_GRU, title='test')\n",
    "#plt.savefig('loss_LSTM_512_1024_lb25_well_' + str(i))\n",
    "train_mse, train_acc = mean_squared_error(y_train_act, y_pred_train), r2_score(y_train_act, y_pred_train)\n",
    "dev_mse, dev_acc = mean_squared_error(y_dev_act, y_pred_dev), r2_score(y_dev_act, y_pred_dev)\n",
    "test_mse, test_acc = mean_squared_error(y_test_act, y_pred_test), r2_score(y_test_act, y_pred_test)\n",
    "\n",
    "print('Training Set Score: %1.4f' % train_acc)\n",
    "print('Dev Set Score: %1.4f' % dev_acc)\n",
    "print('Test Set Score: %1.4f' % test_acc)\n",
    "\n",
    "print('Training Set MSE: %1.4f' % train_mse)\n",
    "print('Dev Set MSE: %1.4f' % dev_mse)\n",
    "print('Test Set MSE: %1.4f' % test_mse)\n",
    "\n",
    "for i in range(y_act.shape[1]):\n",
    "    plot_pred_rate(t[-len(y_act):].as_matrix(),\n",
    "                   y_act[:, i], y_pred[:, i], dev_fraction=dev_fraction, test_fraction=test_fraction, well=i+1)\n",
    "    plt.savefig('traindev_LSTM_512_1024_lb25_well_' + str(i))"
   ]
  },
  {
   "cell_type": "markdown",
   "metadata": {
    "colab_type": "text",
    "id": "OhRaBO9UBsen"
   },
   "source": [
    "Simple RNN"
   ]
  },
  {
   "cell_type": "code",
   "execution_count": null,
   "metadata": {
    "colab": {
     "autoexec": {
      "startup": false,
      "wait_interval": 0
     },
     "base_uri": "https://localhost:8080/",
     "height": 12185
    },
    "colab_type": "code",
    "executionInfo": {
     "elapsed": 149027,
     "status": "ok",
     "timestamp": 1528500038875,
     "user": {
      "displayName": "Tita Ristanto",
      "photoUrl": "//lh6.googleusercontent.com/-WzCH6Rmr_tA/AAAAAAAAAAI/AAAAAAAABTo/i_JXU-eKApc/s50-c-k-no/photo.jpg",
      "userId": "104366007315489817645"
     },
     "user_tz": 420
    },
    "id": "ilPO1K-eBgBL",
    "outputId": "24612c30-1874-4bfb-92d7-24236221178c"
   },
   "outputs": [],
   "source": [
    "import time\n",
    "start_time = time.time()\n",
    "model_RNN, history_RNN = run_model(x_train, y_train, x_dev, y_dev, epochs=300, batch_size=300, method='Simple RNN')\n",
    "# Measure running time\n",
    "print(\"Completed in %s seconds\" % (time.time() - start_time))\n",
    "\n",
    "# Training\n",
    "y_pred_train_pre = model_RNN.predict(x_train)\n",
    "y_pred_train_scaled = np.concatenate((y_pred_train_pre[0], y_pred_train_pre[1], y_pred_train_pre[2]), axis=1)\n",
    "y_pred_train = scaler_y.inverse_transform(y_pred_train_scaled)\n",
    "y_train_act = scaler_y.inverse_transform(y_train)\n",
    "\n",
    "# Dev\n",
    "y_pred_dev_pre = model_RNN.predict(x_dev)\n",
    "y_pred_dev_scaled = np.concatenate((y_pred_dev_pre[0], y_pred_dev_pre[1], y_pred_dev_pre[2]), axis=1)\n",
    "y_pred_dev = scaler_y.inverse_transform(y_pred_dev_scaled)\n",
    "y_dev_act = scaler_y.inverse_transform(y_dev)\n",
    "\n",
    "# Test\n",
    "y_pred_test_pre = model_RNN.predict(x_test)\n",
    "y_pred_test_scaled = np.concatenate((y_pred_test_pre[0], y_pred_test_pre[1], y_pred_test_pre[2]), axis=1)\n",
    "y_pred_test = scaler_y.inverse_transform(y_pred_test_scaled)\n",
    "y_test_act = scaler_y.inverse_transform(y_test)\n",
    "\n",
    "# Train-Dev-Test\n",
    "y_act = np.concatenate([y_train_act, y_dev_act, y_test_act])\n",
    "y_pred = np.concatenate([y_pred_train, y_pred_dev, y_pred_test])\n",
    "\n",
    "plot_loss(history_RNN, title='test')\n",
    "#plt.savefig('loss_LSTM_512_1024_lb25_well_' + str(i))\n",
    "train_mse, train_acc = mean_squared_error(y_train_act, y_pred_train), r2_score(y_train_act, y_pred_train)\n",
    "dev_mse, dev_acc = mean_squared_error(y_dev_act, y_pred_dev), r2_score(y_dev_act, y_pred_dev)\n",
    "test_mse, test_acc = mean_squared_error(y_test_act, y_pred_test), r2_score(y_test_act, y_pred_test)\n",
    "\n",
    "print('Training Set Score: %1.4f' % train_acc)\n",
    "print('Dev Set Score: %1.4f' % dev_acc)\n",
    "print('Test Set Score: %1.4f' % test_acc)\n",
    "\n",
    "print('Training Set MSE: %1.4f' % train_mse)\n",
    "print('Dev Set MSE: %1.4f' % dev_mse)\n",
    "print('Test Set MSE: %1.4f' % test_mse)\n",
    "\n",
    "for i in range(y_act.shape[1]):\n",
    "    plot_pred_rate(t[-len(y_act):].as_matrix(),\n",
    "                   y_act[:, i], y_pred[:, i], dev_fraction=dev_fraction, test_fraction=test_fraction, well=i+1)\n",
    "    plt.savefig('traindev_LSTM_512_1024_lb25_well_' + str(i))"
   ]
  },
  {
   "cell_type": "code",
   "execution_count": null,
   "metadata": {
    "colab": {
     "autoexec": {
      "startup": false,
      "wait_interval": 0
     },
     "base_uri": "https://localhost:8080/",
     "height": 517
    },
    "colab_type": "code",
    "executionInfo": {
     "elapsed": 723,
     "status": "ok",
     "timestamp": 1528498715468,
     "user": {
      "displayName": "Tita Ristanto",
      "photoUrl": "//lh6.googleusercontent.com/-WzCH6Rmr_tA/AAAAAAAAAAI/AAAAAAAABTo/i_JXU-eKApc/s50-c-k-no/photo.jpg",
      "userId": "104366007315489817645"
     },
     "user_tz": 420
    },
    "id": "SodGxS5k4319",
    "outputId": "67739df7-aa91-4f26-ca7c-fe5638a3fe81"
   },
   "outputs": [],
   "source": [
    "histories = {'Simple RNN': history_RNN,\n",
    "            'GRU': history_GRU,\n",
    "            'LSTM': history_LSTM}\n",
    "plot_loss_comparison(histories)"
   ]
  },
  {
   "cell_type": "markdown",
   "metadata": {
    "colab_type": "text",
    "id": "BEbImNGzDkjd"
   },
   "source": [
    "## BHP Prediction"
   ]
  },
  {
   "cell_type": "code",
   "execution_count": null,
   "metadata": {
    "colab": {
     "autoexec": {
      "startup": false,
      "wait_interval": 0
     },
     "base_uri": "https://localhost:8080/",
     "height": 67
    },
    "colab_type": "code",
    "executionInfo": {
     "elapsed": 468,
     "status": "ok",
     "timestamp": 1528487973278,
     "user": {
      "displayName": "Tita Ristanto",
      "photoUrl": "//lh6.googleusercontent.com/-WzCH6Rmr_tA/AAAAAAAAAAI/AAAAAAAABTo/i_JXU-eKApc/s50-c-k-no/photo.jpg",
      "userId": "104366007315489817645"
     },
     "user_tz": 420
    },
    "id": "X6qRz2LUDkjd",
    "outputId": "4cdb4f71-1841-49c7-cc16-6c3477f3ad34"
   },
   "outputs": [],
   "source": [
    "# Group the input\n",
    "Y_raw = pd.concat([p['WBHP:P1'], p['WBHP:P2'], p['WBHP:P3']], axis=1, join='inner')\n",
    "X_raw = pd.concat([qo['WOPR:P1'], qo['WOPR:P2'], qo['WOPR:P3'],\n",
    "                   qw['WWPR:P1'], qw['WWPR:P2'], qw['WWPR:P3'],\n",
    "                   wc['WWCT:P1'], wc['WWCT:P2'], wc['WWCT:P3']], axis=1, join='inner')\n",
    "\n",
    "# Split train-dev and test sets\n",
    "test_fraction = 0.15\n",
    "x_traindev_raw, x_test_raw, y_traindev_raw, y_test_raw = train_test_split(X_raw,\n",
    "                                                  Y_raw,\n",
    "                                                  test_size=test_fraction,\n",
    "                                                  shuffle=False)\n",
    "\n",
    "# Split train and dev sets\n",
    "dev_fraction = 0.15 # of total dataset\n",
    "x_train_raw, x_dev_raw, y_train_raw, y_dev_raw = train_test_split(x_traindev_raw,\n",
    "                                                  y_traindev_raw,\n",
    "                                                  test_size= dev_fraction/(1-test_fraction),\n",
    "                                                  shuffle=False)\n",
    "\n",
    "# Data Scaling\n",
    "scaler_x = MinMaxScaler()\n",
    "x_train_norm = scaler_x.fit_transform(x_train_raw.as_matrix())\n",
    "x_dev_norm = scaler_x.transform(x_dev_raw.as_matrix())\n",
    "x_test_norm = scaler_x.transform(x_test_raw.as_matrix())\n",
    "\n",
    "scaler_y = MinMaxScaler()\n",
    "y_train_norm = scaler_y.fit_transform(y_train_raw.as_matrix())\n",
    "y_dev_norm = scaler_y.transform(y_dev_raw.as_matrix())\n",
    "y_test_norm = scaler_y.transform(y_test_raw.as_matrix())\n",
    "\n",
    "# Create time blocks\n",
    "x_train, y_train = create_timeblock(x_train_norm, y_train_norm, look_back=25)\n",
    "x_dev, y_dev = create_timeblock(x_dev_norm, y_dev_norm, look_back=25)\n",
    "x_test, y_test = create_timeblock(x_test_norm, y_test_norm, look_back=25)"
   ]
  },
  {
   "cell_type": "code",
   "execution_count": null,
   "metadata": {
    "colab": {
     "autoexec": {
      "startup": false,
      "wait_interval": 0
     }
    },
    "colab_type": "code",
    "id": "LFDDGMDbDkjm"
   },
   "outputs": [],
   "source": [
    "def run_model(x_train, y_train, x_dev, y_dev, epochs=500, batch_size=400, method='LSTM'):\n",
    "    classifier = {'GRU' : GRU,\n",
    "                  'LSTM' : LSTM,\n",
    "                  'Simple RNN' : SimpleRNN}\n",
    "\n",
    "    inputs = Input(shape=(x_train.shape[1], x_train.shape[2]))\n",
    "\n",
    "    X = classifier[method](512, return_sequences=True)(inputs)\n",
    "    X = classifier[method](1024, return_sequences=True)(X)\n",
    "    \n",
    "    X = TimeDistributed(Dense(256, activation='relu'))(X)\n",
    "    #X = Dropout(0.6)(X)\n",
    "    \n",
    "    out1 = Dense(1, activation='linear')(Flatten()(X))\n",
    "    out2 = Dense(1, activation='linear')(Flatten()(X))\n",
    "    out3 = Dense(1, activation='linear')(Flatten()(X))\n",
    "    \n",
    "    model = Model(input=inputs, output=[out1, out2, out3])\n",
    "    \n",
    "    #parallel_model = multi_gpu_model(model, gpus=8)\n",
    "\n",
    "    model.compile(loss='mean_squared_error', optimizer='adam', metrics=['mae','accuracy'])\n",
    "    history = model.fit(x_train, [y_train[:, 0], y_train[:, 1], y_train[:, 2]], \n",
    "                        epochs=epochs, batch_size=batch_size,\n",
    "                        validation_data=(x_dev, [y_dev[:, 0], y_dev[:, 1], y_dev[:, 2]]), \n",
    "                        verbose=1, shuffle=False)\n",
    "    return model, history"
   ]
  },
  {
   "cell_type": "code",
   "execution_count": null,
   "metadata": {
    "colab": {
     "autoexec": {
      "startup": false,
      "wait_interval": 0
     },
     "base_uri": "https://localhost:8080/",
     "height": 33403
    },
    "colab_type": "code",
    "executionInfo": {
     "elapsed": 2062375,
     "status": "ok",
     "timestamp": 1528272688327,
     "user": {
      "displayName": "Tita Ristanto",
      "photoUrl": "//lh6.googleusercontent.com/-WzCH6Rmr_tA/AAAAAAAAAAI/AAAAAAAABTo/i_JXU-eKApc/s50-c-k-no/photo.jpg",
      "userId": "104366007315489817645"
     },
     "user_tz": 420
    },
    "id": "mBdG5vS7Dkjp",
    "outputId": "5660eda6-67a3-4b98-cb95-c2dfe6268f20"
   },
   "outputs": [],
   "source": [
    "model, history = run_model(x_train, y_train, x_dev, y_dev, epochs=1000, batch_size=200, method='LSTM')"
   ]
  },
  {
   "cell_type": "code",
   "execution_count": null,
   "metadata": {
    "colab": {
     "autoexec": {
      "startup": false,
      "wait_interval": 0
     },
     "base_uri": "https://localhost:8080/",
     "height": 228
    },
    "colab_type": "code",
    "executionInfo": {
     "elapsed": 324,
     "status": "error",
     "timestamp": 1528488001107,
     "user": {
      "displayName": "Tita Ristanto",
      "photoUrl": "//lh6.googleusercontent.com/-WzCH6Rmr_tA/AAAAAAAAAAI/AAAAAAAABTo/i_JXU-eKApc/s50-c-k-no/photo.jpg",
      "userId": "104366007315489817645"
     },
     "user_tz": 420
    },
    "id": "jJH8JZJXDkjt",
    "outputId": "04e499cd-ff89-496e-a9a0-8ae867fa744c"
   },
   "outputs": [],
   "source": [
    "# Training\n",
    "y_pred_train_pre = model.predict(x_train)\n",
    "y_pred_train_scaled = np.concatenate((y_pred_train_pre[0], y_pred_train_pre[1], y_pred_train_pre[2]), axis=1)\n",
    "y_pred_train = scaler_y.inverse_transform(y_pred_train_scaled)\n",
    "y_train_act = scaler_y.inverse_transform(y_train)\n",
    "\n",
    "# Dev\n",
    "y_pred_dev_pre = model.predict(x_dev)\n",
    "y_pred_dev_scaled = np.concatenate((y_pred_dev_pre[0], y_pred_dev_pre[1], y_pred_dev_pre[2]), axis=1)\n",
    "y_pred_dev = scaler_y.inverse_transform(y_pred_dev_scaled)\n",
    "y_dev_act = scaler_y.inverse_transform(y_dev)\n",
    "\n",
    "# Test\n",
    "y_pred_test_pre = model.predict(x_test)\n",
    "y_pred_test_scaled = np.concatenate((y_pred_test_pre[0], y_pred_test_pre[1], y_pred_test_pre[2]), axis=1)\n",
    "y_pred_test = scaler_y.inverse_transform(y_pred_test_scaled)\n",
    "y_test_act = scaler_y.inverse_transform(y_test)\n",
    "\n",
    "# Train-Dev-Test\n",
    "y_act = np.concatenate([y_train_act, y_dev_act, y_test_act])\n",
    "y_pred = np.concatenate([y_pred_train, y_pred_dev, y_pred_test])"
   ]
  },
  {
   "cell_type": "code",
   "execution_count": null,
   "metadata": {
    "colab": {
     "autoexec": {
      "startup": false,
      "wait_interval": 0
     },
     "base_uri": "https://localhost:8080/",
     "height": 228
    },
    "colab_type": "code",
    "executionInfo": {
     "elapsed": 447,
     "status": "error",
     "timestamp": 1528315288920,
     "user": {
      "displayName": "Tita Ristanto",
      "photoUrl": "//lh6.googleusercontent.com/-WzCH6Rmr_tA/AAAAAAAAAAI/AAAAAAAABTo/i_JXU-eKApc/s50-c-k-no/photo.jpg",
      "userId": "104366007315489817645"
     },
     "user_tz": 420
    },
    "id": "zjz8lEpVDkjv",
    "outputId": "d5ff9f2b-69c6-4996-e868-99a669540945"
   },
   "outputs": [],
   "source": [
    "plot_loss(history, title='test')\n",
    "plt.savefig('loss_LSTM_512_1024_lb25_well_' + str(i))\n",
    "train_mse, train_acc = mean_squared_error(y_train_act, y_pred_train), r2_score(y_train_act, y_pred_train)\n",
    "dev_mse, dev_acc = mean_squared_error(y_dev_act, y_pred_dev), r2_score(y_dev_act, y_pred_dev)\n",
    "test_mse, test_acc = mean_squared_error(y_test_act, y_pred_test), r2_score(y_test_act, y_pred_test)\n",
    "\n",
    "print('Training Set Score: %1.4f' % train_acc)\n",
    "print('Dev Set Score: %1.4f' % dev_acc)\n",
    "print('Test Set Score: %1.4f' % test_acc)\n",
    "\n",
    "print('Training Set MSE: %1.4f' % train_mse)\n",
    "print('Dev Set MSE: %1.4f' % dev_mse)\n",
    "print('Test Set MSE: %1.4f' % test_mse)"
   ]
  },
  {
   "cell_type": "code",
   "execution_count": null,
   "metadata": {
    "colab": {
     "autoexec": {
      "startup": false,
      "wait_interval": 0
     },
     "base_uri": "https://localhost:8080/",
     "height": 212
    },
    "colab_type": "code",
    "executionInfo": {
     "elapsed": 570,
     "status": "error",
     "timestamp": 1528315281995,
     "user": {
      "displayName": "Tita Ristanto",
      "photoUrl": "//lh6.googleusercontent.com/-WzCH6Rmr_tA/AAAAAAAAAAI/AAAAAAAABTo/i_JXU-eKApc/s50-c-k-no/photo.jpg",
      "userId": "104366007315489817645"
     },
     "user_tz": 420
    },
    "id": "Gu7S9SE7Dkjx",
    "outputId": "f549f0ec-aaa3-49a7-9fee-e4435463caf2"
   },
   "outputs": [],
   "source": [
    "\n",
    "\n",
    "for i in range(y_act.shape[1]):\n",
    "    plot_pressure(t[-len(y_act):].as_matrix(),\n",
    "                   y_act[:, i], y_pred[:, i], dev_fraction=dev_fraction, test_fraction=test_fraction, well=i+1)\n",
    "    plt.savefig('plot_LSTM_512_1024_lb25_well_' + str(i))"
   ]
  },
  {
   "cell_type": "code",
   "execution_count": null,
   "metadata": {
    "colab": {
     "autoexec": {
      "startup": false,
      "wait_interval": 0
     }
    },
    "colab_type": "code",
    "id": "kP8s2QilDkj4"
   },
   "outputs": [],
   "source": []
  },
  {
   "cell_type": "code",
   "execution_count": null,
   "metadata": {
    "colab": {
     "autoexec": {
      "startup": false,
      "wait_interval": 0
     },
     "base_uri": "https://localhost:8080/",
     "height": 645
    },
    "colab_type": "code",
    "executionInfo": {
     "elapsed": 792,
     "status": "error",
     "timestamp": 1528267093096,
     "user": {
      "displayName": "Tita Ristanto",
      "photoUrl": "//lh6.googleusercontent.com/-WzCH6Rmr_tA/AAAAAAAAAAI/AAAAAAAABTo/i_JXU-eKApc/s50-c-k-no/photo.jpg",
      "userId": "104366007315489817645"
     },
     "user_tz": 420
    },
    "id": "RLa06fAmDkj7",
    "outputId": "4932aecc-ad4c-4d42-94c1-a665f3d4f05e"
   },
   "outputs": [],
   "source": [
    "plot_model(model)"
   ]
  },
  {
   "cell_type": "code",
   "execution_count": null,
   "metadata": {
    "colab": {
     "autoexec": {
      "startup": false,
      "wait_interval": 0
     },
     "base_uri": "https://localhost:8080/",
     "height": 2233
    },
    "colab_type": "code",
    "executionInfo": {
     "elapsed": 31856,
     "status": "ok",
     "timestamp": 1528305360767,
     "user": {
      "displayName": "Tita Ristanto",
      "photoUrl": "//lh6.googleusercontent.com/-WzCH6Rmr_tA/AAAAAAAAAAI/AAAAAAAABTo/i_JXU-eKApc/s50-c-k-no/photo.jpg",
      "userId": "104366007315489817645"
     },
     "user_tz": 420
    },
    "id": "CFTNs0-oDkj_",
    "outputId": "5be47737-78f7-4f5d-8902-1d9abccf53b3"
   },
   "outputs": [],
   "source": [
    "# Install a Drive FUSE wrapper.\n",
    "# https://github.com/astrada/google-drive-ocamlfuse\n",
    "!apt-get update -qq 2>&1 > /dev/null\n",
    "!apt-get install -y -qq software-properties-common python-software-properties module-init-tools\n",
    "!add-apt-repository -y ppa:alessandro-strada/ppa 2>&1 > /dev/null\n",
    "!apt-get update -qq 2>&1 > /dev/null\n",
    "!apt-get -y install -qq google-drive-ocamlfuse fuse"
   ]
  },
  {
   "cell_type": "code",
   "execution_count": null,
   "metadata": {
    "colab": {
     "autoexec": {
      "startup": false,
      "wait_interval": 0
     },
     "base_uri": "https://localhost:8080/",
     "height": 1514
    },
    "colab_type": "code",
    "executionInfo": {
     "elapsed": 1068,
     "status": "ok",
     "timestamp": 1528488037704,
     "user": {
      "displayName": "Tita Ristanto",
      "photoUrl": "//lh6.googleusercontent.com/-WzCH6Rmr_tA/AAAAAAAAAAI/AAAAAAAABTo/i_JXU-eKApc/s50-c-k-no/photo.jpg",
      "userId": "104366007315489817645"
     },
     "user_tz": 420
    },
    "id": "EDAg9MBxDkkB",
    "outputId": "ba2692f3-dec3-4a67-ddd1-0c9f8aa79494"
   },
   "outputs": [],
   "source": [
    "def plot_pressure_actual(t, q_actual, dev_fraction, test_fraction, well):\n",
    "    \"\"\"This function plots actual and predicted bottom hole pressure\"\"\"\n",
    "    # Plotting pwf v time\n",
    "    plt.figure()\n",
    "    plt.plot(t, q_actual, 'k-', linewidth=3, label='Actual Bottom Hole Pressure')\n",
    "\n",
    "    plt.xlabel(\"Time (hours)\", fontsize=14)\n",
    "    plt.ylabel(\"Bottom Hole Pressure (psi)\", fontsize=14)\n",
    "    plt.title(\"Bottom Hole Pressure Well \"+str(well), y=1, fontsize=13)\n",
    "    plt.legend(loc=\"best\", prop=dict(size=14))\n",
    "    plt.xlim(0, max(t))\n",
    "    plt.ylim(0, max(q_actual) + 10)\n",
    "    plt.grid(True)\n",
    "\n",
    "for i in range(y_act.shape[1]):\n",
    "    plot_pressure_actual(t[-len(y_act):].as_matrix(),\n",
    "                   y_act[:, i], dev_fraction=dev_fraction, test_fraction=test_fraction, well=i+1)\n",
    "    #plt.savefig('plot_LSTM_512_1024_lb25_well_' + str(i))"
   ]
  },
  {
   "cell_type": "code",
   "execution_count": null,
   "metadata": {
    "colab": {
     "autoexec": {
      "startup": false,
      "wait_interval": 0
     }
    },
    "colab_type": "code",
    "id": "U9a0g5tJGNvS"
   },
   "outputs": [],
   "source": [
    "# Training\n",
    "\n",
    "y_train_act = scaler_y.inverse_transform(y_train)\n",
    "\n",
    "# Dev\n",
    "\n",
    "y_dev_act = scaler_y.inverse_transform(y_dev)\n",
    "\n",
    "# Test\n",
    "\n",
    "y_test_act = scaler_y.inverse_transform(y_test)\n",
    "\n",
    "# Train-Dev-Test\n",
    "y_act = np.concatenate([y_train_act, y_dev_act, y_test_act])\n"
   ]
  },
  {
   "cell_type": "code",
   "execution_count": null,
   "metadata": {
    "colab": {
     "autoexec": {
      "startup": false,
      "wait_interval": 0
     },
     "base_uri": "https://localhost:8080/",
     "height": 400
    },
    "colab_type": "code",
    "executionInfo": {
     "elapsed": 9405,
     "status": "ok",
     "timestamp": 1528305529403,
     "user": {
      "displayName": "Tita Ristanto",
      "photoUrl": "//lh6.googleusercontent.com/-WzCH6Rmr_tA/AAAAAAAAAAI/AAAAAAAABTo/i_JXU-eKApc/s50-c-k-no/photo.jpg",
      "userId": "104366007315489817645"
     },
     "user_tz": 420
    },
    "id": "hS37QuX0GOQc",
    "outputId": "225c9c7b-a6ea-4889-9728-e81cfc337a0f"
   },
   "outputs": [],
   "source": [
    "# Create a directory and mount Google Drive using that directory.\n",
    "!mkdir -p drive\n",
    "!google-drive-ocamlfuse drive\n",
    "\n",
    "print ('Files in Drive:')\n",
    "!ls drive/\n",
    "\n",
    "# Create a file in Drive.\n",
    "!echo \"This newly created file will appear in your Drive file list.\" > drive/created.txt"
   ]
  },
  {
   "cell_type": "code",
   "execution_count": null,
   "metadata": {
    "colab": {
     "autoexec": {
      "startup": false,
      "wait_interval": 0
     }
    },
    "colab_type": "code",
    "id": "M7faUK2pG1p9"
   },
   "outputs": [],
   "source": []
  },
  {
   "cell_type": "code",
   "execution_count": null,
   "metadata": {
    "colab": {
     "autoexec": {
      "startup": false,
      "wait_interval": 0
     },
     "base_uri": "https://localhost:8080/",
     "height": 33
    },
    "colab_type": "code",
    "executionInfo": {
     "elapsed": 1448,
     "status": "ok",
     "timestamp": 1528306106939,
     "user": {
      "displayName": "Tita Ristanto",
      "photoUrl": "//lh6.googleusercontent.com/-WzCH6Rmr_tA/AAAAAAAAAAI/AAAAAAAABTo/i_JXU-eKApc/s50-c-k-no/photo.jpg",
      "userId": "104366007315489817645"
     },
     "user_tz": 420
    },
    "id": "d2qRuXdKIuz4",
    "outputId": "b275cf50-cd28-4c5d-a69c-d8d551e5e45b"
   },
   "outputs": [],
   "source": [
    "os.chdir('drive/Stanford')\n",
    "os.getcwd()\n"
   ]
  },
  {
   "cell_type": "code",
   "execution_count": null,
   "metadata": {
    "colab": {
     "autoexec": {
      "startup": false,
      "wait_interval": 0
     }
    },
    "colab_type": "code",
    "id": "R32h-HF6Ixm_"
   },
   "outputs": [],
   "source": []
  }
 ],
 "metadata": {
  "accelerator": "GPU",
  "colab": {
   "collapsed_sections": [],
   "default_view": {},
   "name": "Copy of LSTM_GRU_RNN_res_jun3.ipynb",
   "provenance": [
    {
     "file_id": "1k8cmP3kH4o89BcF-aT-eXvs9Egekk6NP",
     "timestamp": 1528316414697
    }
   ],
   "version": "0.3.2",
   "views": {}
  },
  "kernelspec": {
   "display_name": "Python 3",
   "language": "python",
   "name": "python3"
  },
  "language_info": {
   "codemirror_mode": {
    "name": "ipython",
    "version": 3
   },
   "file_extension": ".py",
   "mimetype": "text/x-python",
   "name": "python",
   "nbconvert_exporter": "python",
   "pygments_lexer": "ipython3",
   "version": "3.6.2"
  }
 },
 "nbformat": 4,
 "nbformat_minor": 1
}
